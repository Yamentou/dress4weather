{
 "cells": [
  {
   "cell_type": "code",
   "execution_count": null,
   "metadata": {},
   "outputs": [],
   "source": [
    "# input() and print()"
   ]
  },
  {
   "cell_type": "code",
   "execution_count": 1,
   "metadata": {},
   "outputs": [],
   "source": [
    "import random as rand"
   ]
  },
  {
   "cell_type": "code",
   "execution_count": 2,
   "metadata": {},
   "outputs": [
    {
     "name": "stdout",
     "output_type": "stream",
     "text": [
      "What's your name?Lionnel\n"
     ]
    }
   ],
   "source": [
    "answer = input(\"What's your name?\")"
   ]
  },
  {
   "cell_type": "code",
   "execution_count": 3,
   "metadata": {},
   "outputs": [
    {
     "name": "stdout",
     "output_type": "stream",
     "text": [
      "Lionnel\n"
     ]
    }
   ],
   "source": [
    "print(answer)"
   ]
  },
  {
   "cell_type": "code",
   "execution_count": 4,
   "metadata": {},
   "outputs": [
    {
     "name": "stdout",
     "output_type": "stream",
     "text": [
      "What's your name?\n",
      "John Maxwell\n"
     ]
    }
   ],
   "source": [
    "print(\"What's your name?\")\n",
    "answer = input()"
   ]
  },
  {
   "cell_type": "code",
   "execution_count": 6,
   "metadata": {},
   "outputs": [
    {
     "name": "stdout",
     "output_type": "stream",
     "text": [
      "What's your name? ->Big Bird\n"
     ]
    }
   ],
   "source": [
    "#prompt = \"->\"\n",
    "#print(\"What's your name?\")\n",
    "#answer = input(prompt)\n",
    "\n",
    "answer = input(\"What's your name? ->\")"
   ]
  },
  {
   "cell_type": "code",
   "execution_count": 7,
   "metadata": {},
   "outputs": [
    {
     "name": "stdout",
     "output_type": "stream",
     "text": [
      "What's your name?***Big Bird\n"
     ]
    }
   ],
   "source": [
    "print(\"What's your name?\", end='***')\n",
    "answer = input()"
   ]
  },
  {
   "cell_type": "code",
   "execution_count": 8,
   "metadata": {},
   "outputs": [
    {
     "name": "stdout",
     "output_type": "stream",
     "text": [
      "What's your name? Big Bird\n"
     ]
    }
   ],
   "source": [
    "print(\"What's your name?\", end=' ')\n",
    "answer = input()"
   ]
  },
  {
   "cell_type": "code",
   "execution_count": null,
   "metadata": {},
   "outputs": [],
   "source": [
    "# data type convertion"
   ]
  },
  {
   "cell_type": "code",
   "execution_count": 9,
   "metadata": {},
   "outputs": [
    {
     "name": "stdout",
     "output_type": "stream",
     "text": [
      "What's today's temperature? 45\n"
     ]
    }
   ],
   "source": [
    "print(\"What's today's temperature?\", end=' ')\n",
    "today = input()   # enter an integer"
   ]
  },
  {
   "cell_type": "code",
   "execution_count": 10,
   "metadata": {},
   "outputs": [
    {
     "name": "stdout",
     "output_type": "stream",
     "text": [
      "What's yesterday's temperature? 35\n"
     ]
    }
   ],
   "source": [
    "print(\"What's yesterday's temperature?\", end=' ')\n",
    "yesterday = input()  # enter a float"
   ]
  },
  {
   "cell_type": "code",
   "execution_count": 11,
   "metadata": {},
   "outputs": [
    {
     "ename": "TypeError",
     "evalue": "unsupported operand type(s) for -: 'str' and 'str'",
     "output_type": "error",
     "traceback": [
      "\u001b[0;31m---------------------------------------------------------------------------\u001b[0m",
      "\u001b[0;31mTypeError\u001b[0m                                 Traceback (most recent call last)",
      "\u001b[0;32m/var/folders/m8/v1jfnwfj6hggpyk2z6tsl6tm0000gn/T/ipykernel_44091/3664316148.py\u001b[0m in \u001b[0;36m<module>\u001b[0;34m\u001b[0m\n\u001b[0;32m----> 1\u001b[0;31m \u001b[0mprint\u001b[0m\u001b[0;34m(\u001b[0m\u001b[0;34mf\"Temperature difference is {today - yesterday}\"\u001b[0m\u001b[0;34m)\u001b[0m\u001b[0;34m\u001b[0m\u001b[0;34m\u001b[0m\u001b[0m\n\u001b[0m",
      "\u001b[0;31mTypeError\u001b[0m: unsupported operand type(s) for -: 'str' and 'str'"
     ]
    }
   ],
   "source": [
    "print(f\"Temperature difference is {today - yesterday}\")"
   ]
  },
  {
   "cell_type": "code",
   "execution_count": 12,
   "metadata": {},
   "outputs": [
    {
     "name": "stdout",
     "output_type": "stream",
     "text": [
      "Temperature difference is 10.0\n"
     ]
    }
   ],
   "source": [
    "itoday = int(today)\n",
    "iyesterday = float(yesterday)\n",
    "print(f\"Temperature difference is {itoday - iyesterday}\")"
   ]
  },
  {
   "cell_type": "code",
   "execution_count": 13,
   "metadata": {},
   "outputs": [
    {
     "name": "stdout",
     "output_type": "stream",
     "text": [
      "What's yesterday's temperature? 50\n"
     ]
    }
   ],
   "source": [
    "print(\"What's yesterday's temperature?\", end=' ')\n",
    "yesterday = input()\n",
    "iyesterday = float(yesterday)"
   ]
  },
  {
   "cell_type": "code",
   "execution_count": 18,
   "metadata": {},
   "outputs": [
    {
     "name": "stdout",
     "output_type": "stream",
     "text": [
      "How many hours did you exercise this week? 9\n",
      "How many hours did you exercise last week? 2\n",
      "Hour difference is 7.0\n"
     ]
    }
   ],
   "source": [
    "print(\"How many hours did you exercise this week?\", end=' ')\n",
    "this_week = float(input())\n",
    "print(\"How many hours did you exercise last week?\", end=' ')\n",
    "last_week = float(input())\n",
    "print(f\"Hour difference is {this_week - last_week}\")"
   ]
  },
  {
   "cell_type": "code",
   "execution_count": null,
   "metadata": {},
   "outputs": [],
   "source": [
    "# built-in functions"
   ]
  },
  {
   "cell_type": "code",
   "execution_count": 19,
   "metadata": {},
   "outputs": [
    {
     "data": {
      "text/plain": [
       "3"
      ]
     },
     "execution_count": 19,
     "metadata": {},
     "output_type": "execute_result"
    }
   ],
   "source": [
    "round(3.1415)"
   ]
  },
  {
   "cell_type": "code",
   "execution_count": 22,
   "metadata": {},
   "outputs": [
    {
     "data": {
      "text/plain": [
       "3.142"
      ]
     },
     "execution_count": 22,
     "metadata": {},
     "output_type": "execute_result"
    }
   ],
   "source": [
    "round(3.1415, 3)"
   ]
  },
  {
   "cell_type": "code",
   "execution_count": 23,
   "metadata": {},
   "outputs": [
    {
     "data": {
      "text/plain": [
       "3.123"
      ]
     },
     "execution_count": 23,
     "metadata": {},
     "output_type": "execute_result"
    }
   ],
   "source": [
    "round(3.12349505, 3)"
   ]
  },
  {
   "cell_type": "code",
   "execution_count": 24,
   "metadata": {},
   "outputs": [
    {
     "data": {
      "text/plain": [
       "3.124"
      ]
     },
     "execution_count": 24,
     "metadata": {},
     "output_type": "execute_result"
    }
   ],
   "source": [
    "round(3.12350505, 3)"
   ]
  },
  {
   "cell_type": "code",
   "execution_count": 25,
   "metadata": {},
   "outputs": [],
   "source": [
    "#taking a library/class called random and renaming it to rand\n",
    "import random as rand"
   ]
  },
  {
   "cell_type": "code",
   "execution_count": 53,
   "metadata": {},
   "outputs": [
    {
     "name": "stdout",
     "output_type": "stream",
     "text": [
      "A random number between 0 and 1 is 0.69\n",
      "A random number between 0 and 1000 is:  876.98\n"
     ]
    }
   ],
   "source": [
    "print (\"A random number between 0 and 1 is \", end=\"\")\n",
    "x = rand.random()\n",
    "y = round(x, 2)\n",
    "print(y)\n",
    "\n",
    "print(f\"A random number between 0 and 1000 is: \", round(rand.random()*1000, 2))"
   ]
  },
  {
   "cell_type": "code",
   "execution_count": 43,
   "metadata": {},
   "outputs": [
    {
     "name": "stdout",
     "output_type": "stream",
     "text": [
      "0.5902032909711411\n"
     ]
    }
   ],
   "source": [
    "print(rand.random())"
   ]
  },
  {
   "cell_type": "code",
   "execution_count": 44,
   "metadata": {},
   "outputs": [
    {
     "name": "stdout",
     "output_type": "stream",
     "text": [
      "0.09970025536690486\n"
     ]
    }
   ],
   "source": [
    "print(rand.random())"
   ]
  },
  {
   "cell_type": "code",
   "execution_count": 45,
   "metadata": {},
   "outputs": [
    {
     "name": "stdout",
     "output_type": "stream",
     "text": [
      "553\n"
     ]
    }
   ],
   "source": [
    "#getting a random number from 1 to 10\n",
    "x = rand.randint(100,1000)\n",
    "print(x)"
   ]
  },
  {
   "cell_type": "code",
   "execution_count": 27,
   "metadata": {},
   "outputs": [
    {
     "name": "stdout",
     "output_type": "stream",
     "text": [
      "5\n"
     ]
    }
   ],
   "source": [
    "print(rand.randint(1, 10))"
   ]
  },
  {
   "cell_type": "code",
   "execution_count": 54,
   "metadata": {},
   "outputs": [
    {
     "name": "stdout",
     "output_type": "stream",
     "text": [
      "6\n",
      "4\n",
      "7\n",
      "6\n",
      "7\n",
      "2\n",
      "9\n",
      "9\n",
      "4\n"
     ]
    }
   ],
   "source": [
    "print(rand.randint(1, 10))\n",
    "print(rand.randint(1, 10))\n",
    "print(rand.randint(1, 10))\n",
    "print(rand.randint(1, 10))\n",
    "print(rand.randint(1, 10))\n",
    "print(rand.randint(1, 10))\n",
    "print(rand.randint(1, 10))\n",
    "print(rand.randint(1, 10))\n",
    "print(rand.randint(1, 10))"
   ]
  },
  {
   "cell_type": "code",
   "execution_count": 56,
   "metadata": {},
   "outputs": [
    {
     "name": "stdout",
     "output_type": "stream",
     "text": [
      "x= 10\n",
      "6\n",
      "10\n",
      "2\n",
      "5\n",
      "6\n",
      "9\n"
     ]
    }
   ],
   "source": [
    "x = rand.randint(1, 10)\n",
    "print(f\"x= {x}\")\n",
    "print(rand.randint(1, x))\n",
    "print(rand.randint(1, x))\n",
    "print(rand.randint(1, x))\n",
    "print(rand.randint(1, x))\n",
    "print(rand.randint(1, x))\n",
    "print(rand.randint(1, x))"
   ]
  },
  {
   "cell_type": "code",
   "execution_count": null,
   "metadata": {},
   "outputs": [],
   "source": [
    "# Create Function"
   ]
  },
  {
   "cell_type": "code",
   "execution_count": 57,
   "metadata": {},
   "outputs": [],
   "source": [
    "def greetings() :\n",
    "    print(\"Hello, Python\")\n",
    "    \n",
    "#print(\"I am here!\")    "
   ]
  },
  {
   "cell_type": "code",
   "execution_count": 58,
   "metadata": {},
   "outputs": [
    {
     "name": "stdout",
     "output_type": "stream",
     "text": [
      "Hello, Python\n"
     ]
    }
   ],
   "source": [
    "greetings()"
   ]
  },
  {
   "cell_type": "code",
   "execution_count": 59,
   "metadata": {},
   "outputs": [
    {
     "name": "stdout",
     "output_type": "stream",
     "text": [
      "Hello, Python\n",
      "Hello, Python\n"
     ]
    }
   ],
   "source": [
    "greetings()\n",
    "greetings()"
   ]
  },
  {
   "cell_type": "code",
   "execution_count": 74,
   "metadata": {},
   "outputs": [
    {
     "name": "stdout",
     "output_type": "stream",
     "text": [
      "CoolCoolCool\n"
     ]
    }
   ],
   "source": [
    "def repeat_message (message, numb) :\n",
    "    print(f\"{message}\" * numb)\n",
    "    \n",
    "repeat_message(\"Cool\", 3) "
   ]
  },
  {
   "cell_type": "code",
   "execution_count": 72,
   "metadata": {},
   "outputs": [
    {
     "name": "stdout",
     "output_type": "stream",
     "text": [
      "Is it cool? \n",
      "Is it cool? \n",
      "Is it cool? \n",
      "Is it cool? \n",
      "Is it cool? \n",
      "Is it cool? \n",
      "Is it cool? \n",
      "Is it cool? \n",
      "Is it cool? \n",
      "Is it cool? \n",
      "\n"
     ]
    }
   ],
   "source": [
    "repeat_message(\"Is it cool? \", 10)"
   ]
  },
  {
   "cell_type": "code",
   "execution_count": 73,
   "metadata": {},
   "outputs": [
    {
     "name": "stdout",
     "output_type": "stream",
     "text": [
      "good good good \n",
      "fun fun \n",
      "smile smile smile smile smile \n"
     ]
    }
   ],
   "source": [
    "def repeat_message (message, numb) :\n",
    "    print(f\"{message} \" * numb)            \n",
    "    \n",
    "repeat_message(\"good\", 3) \n",
    "repeat_message(\"fun\", 2) \n",
    "repeat_message(\"smile\", 5) "
   ]
  },
  {
   "cell_type": "code",
   "execution_count": 75,
   "metadata": {},
   "outputs": [
    {
     "name": "stdout",
     "output_type": "stream",
     "text": [
      "good\n",
      "Really?\n",
      "good good good \n",
      "\n",
      "fun\n",
      "Really?\n",
      "fun fun \n",
      "\n",
      "smile\n",
      "Really?\n",
      "smile smile smile smile smile \n",
      "\n"
     ]
    }
   ],
   "source": [
    "def repeat_message (message, numb) :\n",
    "    print(message)\n",
    "    print(\"Really?\")\n",
    "    print(f\"{message} \" * numb)\n",
    "    print(\"\")\n",
    "    \n",
    "repeat_message(\"good\", 3) \n",
    "repeat_message(\"fun\", 2) \n",
    "repeat_message(\"smile\", 5) "
   ]
  },
  {
   "cell_type": "code",
   "execution_count": 76,
   "metadata": {},
   "outputs": [
    {
     "name": "stdout",
     "output_type": "stream",
     "text": [
      "what do you think? I am not sure.\n"
     ]
    }
   ],
   "source": [
    "answer = input(\"what do you think? \")"
   ]
  },
  {
   "cell_type": "code",
   "execution_count": 77,
   "metadata": {},
   "outputs": [
    {
     "data": {
      "text/plain": [
       "'I am not sure.'"
      ]
     },
     "execution_count": 77,
     "metadata": {},
     "output_type": "execute_result"
    }
   ],
   "source": [
    "answer"
   ]
  },
  {
   "cell_type": "code",
   "execution_count": 83,
   "metadata": {},
   "outputs": [
    {
     "name": "stdout",
     "output_type": "stream",
     "text": [
      "smile smile smile smile smile \n",
      "smile smile smile smile smile \n"
     ]
    }
   ],
   "source": [
    "# function returns\n",
    "\n",
    "def repeat_message (message, numb) :\n",
    "    retval =  f\"{message} \" * numb\n",
    "    return retval\n",
    "\n",
    "#msg = repeat_message(\"cold\", 2)\n",
    "#print(repeat_message(\"good\", 3)) \n",
    "#print(repeat_message(\"fun\", 2)) \n",
    "print(repeat_message(\"smile\", 5)) \n",
    "print(f\"smile \" * 5)"
   ]
  },
  {
   "cell_type": "code",
   "execution_count": 84,
   "metadata": {},
   "outputs": [
    {
     "data": {
      "text/plain": [
       "'cold cold '"
      ]
     },
     "execution_count": 84,
     "metadata": {},
     "output_type": "execute_result"
    }
   ],
   "source": [
    "msg = repeat_message(\"cold\", 2)\n",
    "msg"
   ]
  },
  {
   "cell_type": "code",
   "execution_count": 85,
   "metadata": {},
   "outputs": [],
   "source": [
    "def addition (numb1, numb2) :\n",
    "    retval =  numb1 + numb2\n",
    "    return retval\n",
    "\n",
    "x = addition(1, 2)"
   ]
  },
  {
   "cell_type": "code",
   "execution_count": 86,
   "metadata": {},
   "outputs": [
    {
     "name": "stdout",
     "output_type": "stream",
     "text": [
      "3\n"
     ]
    }
   ],
   "source": [
    "print(x)"
   ]
  },
  {
   "cell_type": "code",
   "execution_count": 88,
   "metadata": {},
   "outputs": [
    {
     "name": "stdout",
     "output_type": "stream",
     "text": [
      "4\n"
     ]
    }
   ],
   "source": [
    "def addition (numb1, numb2) :\n",
    "    retval =  numb1 + numb2\n",
    "    return retval\n",
    "\n",
    "y = addition(2, 2)\n",
    "print(y)"
   ]
  },
  {
   "cell_type": "code",
   "execution_count": 89,
   "metadata": {},
   "outputs": [
    {
     "name": "stdout",
     "output_type": "stream",
     "text": [
      "32\n"
     ]
    }
   ],
   "source": [
    "def addition (numb1, numb2) :\n",
    "    retval =  numb1 + numb2\n",
    "    return retval\n",
    "\n",
    "z = addition(11, 21)\n",
    "print(z)"
   ]
  },
  {
   "cell_type": "code",
   "execution_count": 91,
   "metadata": {},
   "outputs": [
    {
     "name": "stdout",
     "output_type": "stream",
     "text": [
      "6\n"
     ]
    }
   ],
   "source": [
    "# what is going on here?\n",
    "\n",
    "def addition (numb1, numb2) :\n",
    "    retval =  numb1 + numb2\n",
    "    return retval\n",
    "\n",
    "def addition (numb1, numb2, numb3) :\n",
    "    retval =  numb1 + numb2 + numb3\n",
    "    return retval\n",
    "\n",
    "#print(addition(1, 2))\n",
    "print(addition(1, 2, 3))\n",
    "\n",
    "# result?"
   ]
  },
  {
   "cell_type": "code",
   "execution_count": 92,
   "metadata": {},
   "outputs": [
    {
     "name": "stdout",
     "output_type": "stream",
     "text": [
      "6\n",
      "6\n"
     ]
    }
   ],
   "source": [
    "# use optional argument\n",
    "def addition (numb1, numb2, numb3=0) :\n",
    "    if only 2 numbers are provided, do not use the third one\n",
    "    #retval =  numb1 + numb2 + numb3\n",
    "    return retval\n",
    "\n",
    "print(addition(4, 2))\n",
    "print(addition(2, 2, 2))"
   ]
  },
  {
   "cell_type": "code",
   "execution_count": null,
   "metadata": {},
   "outputs": [],
   "source": []
  }
 ],
 "metadata": {
  "kernelspec": {
   "display_name": "Python 3 (ipykernel)",
   "language": "python",
   "name": "python3"
  },
  "language_info": {
   "codemirror_mode": {
    "name": "ipython",
    "version": 3
   },
   "file_extension": ".py",
   "mimetype": "text/x-python",
   "name": "python",
   "nbconvert_exporter": "python",
   "pygments_lexer": "ipython3",
   "version": "3.9.13"
  }
 },
 "nbformat": 4,
 "nbformat_minor": 4
}
